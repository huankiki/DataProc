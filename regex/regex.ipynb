{
 "cells": [
  {
   "cell_type": "markdown",
   "metadata": {},
   "source": [
    "# Regular Expression  (正则表达式)\n",
    "------\n",
    "\n",
    "### 参考资料\n",
    "- [正则表达式必知必会（修订版）](https://book.douban.com/subject/26285406/)  \n",
    "- [Python Docs-Regular Expression HOWTO](https://docs.python.org/2.7/howto/regex.html)\n"
   ]
  },
  {
   "cell_type": "markdown",
   "metadata": {},
   "source": [
    "------\n",
    "### 第1章 正则表达式入门\n",
    "正则表达式(regular expression, 简称regex)是一些用来匹配和处理文本的**字符串**，有特定的语法和指令。  \n",
    "正则表达式的用途：搜索 & 替换，是文本处理方面功能最强大的工具之一。  \n",
    "- 人们常用模式（pattern）表示实际的正则表达式。\n",
    "- 对正则表达式的测试是有技巧的，一方面，验证某个模式有预期的匹配结果，另一方面，验证不会匹配到不想要的东西，相对更难一些。\n",
    "\n",
    "#### Tips\n",
    "正则表达式起源于20世纪50年代在数学领域的一些研究工作。几年后，计算机领域借鉴那些研究成果和思路，开发出了Unix中的Perl语言和grep等工具。  "
   ]
  },
  {
   "cell_type": "markdown",
   "metadata": {
    "collapsed": true
   },
   "source": [
    "------\n",
    "### 第2章 匹配单个字符\n",
    "正则表达式是区分字母大小写的。  \n",
    "- `\".\"` 字符可以**匹配任意一个字符**（换行符之外）。  \n",
    "- `\"\\\"` 是一个元字符，meta character，表示\"这个字符有特殊含义，不是字符本身的含义\"。 用来**匹配特殊字符**。\n",
    "\n",
    "如果要匹配`\".\"`字符本身(而不是在正则表达式中的特殊含义)，需要用反斜杠对其转义： `\"\\.\"`\n"
   ]
  },
  {
   "cell_type": "markdown",
   "metadata": {},
   "source": [
    "------\n",
    "### 第3章 匹配一组字符 \n",
    "- 用元字符`\"[\"`和`\"]\"`定义一个字符集合。用来**匹配多个字符中的某一个**。  \n",
    "- **字符集合区间**, 比如字母和数字区间： `\"[a-z]\"`， `\"[0-9]\"`， `\"[a-zA-Z0-9]\"`\n",
    "- **取非匹配**, 元字符`\"^\"`。\"^\"将作用于字符集合里的所有字符，而不仅限于紧跟在^字符后的那一个字符。\n",
    "\n",
    "Tips： 连字符\"-\"， 是一个特殊的元字符，只有在\"[\" 和 \"]\"之间时是元字符，在其他地方只是一个普通字符，不需要转义。"
   ]
  },
  {
   "cell_type": "markdown",
   "metadata": {},
   "source": [
    "\n",
    "### 以下列出了第2~3章，书中出现的所有正则表达式(模式)"
   ]
  },
  {
   "cell_type": "code",
   "execution_count": 22,
   "metadata": {
    "collapsed": false
   },
   "outputs": [
    {
     "name": "stdout",
     "output_type": "stream",
     "text": [
      "sales1.xls\n",
      "orders3.xls\n",
      "sales2.xls\n",
      "sales3.xls\n",
      "apac1.xls\n",
      "europe2.xls\n",
      "na1.xls\n",
      "na2.xls\n",
      "sa1.xls\n",
      "ca1.xls\n",
      "\n"
     ]
    }
   ],
   "source": [
    "## 测试文本\n",
    "#coding:utf-8\n",
    "import io\n",
    "with io.open(\"./test/single.txt\") as fin:\n",
    "    testlst = fin.readlines()\n",
    "    for i in range(len(testlst)):\n",
    "        testlst[i] = testlst[i].strip(\"\\n\")\n",
    "        print testlst[i]"
   ]
  },
  {
   "cell_type": "code",
   "execution_count": 23,
   "metadata": {
    "collapsed": true
   },
   "outputs": [],
   "source": [
    "## 第2～3章，所有的模式\n",
    "## 第2章， 匹配单个字符\n",
    "# 2.1 匹配纯文本\n",
    "'''\n",
    "Ben\n",
    "my\n",
    "'''\n",
    "## 2.2 匹配任意字符，  2.3 匹配特殊字符\n",
    "'''\n",
    "sales.\n",
    ".a.\n",
    ".a..\n",
    ".a.\\.xls\n",
    "'''\n",
    "## example\n",
    "pattern = \"sales.\"  #匹配任意字符\n",
    "result = [\"sales1\", \"sales2\", \"sales3\"]\n",
    "pattern = \".a.\\.xls\"  #匹配特殊字符\n",
    "result = [\"na1.xls\", \"na2.xls\", \"sa1.xls\", \"ca1.xls\"]\n",
    "\n",
    "## 第3章， 匹配一组字符\n",
    "# 3.1 匹配多个字符中的某一个\n",
    "'''\n",
    "[ns]a.\\.xls\n",
    "[Rr]eg[Ee]x\n",
    "'''\n",
    "# 3.2 利用字符集合区间\n",
    "'''\n",
    "[ns]a[0123456789]\\.xls\n",
    "[ns]a[0-9]\\.xls\n",
    "#[0-9A-Fa-f][0-9A-Fa-f][0-9A-Fa-f][0-9A-Fa-f][0-9A-Fa-f][0-9A-Fa-f]\n",
    "'''\n",
    "# 3.3 取非匹配\n",
    "'''\n",
    "[ns]a[^0-9]\\.xls\n",
    "'''\n",
    "# example\n",
    "pattern = \"[ns]a.\\.xls\"  #匹配多个字符中的某一个\n",
    "result = [\"na1.xls\", \"na2.xls\", \"sa1.xls\"]"
   ]
  },
  {
   "cell_type": "markdown",
   "metadata": {},
   "source": [
    "### 小结\n",
    "从第2章、第3章的内容，可以看出来作者写这本书的思路和用心之处。\n",
    "- 并非从知识点出发，而是从需求/用途出发，讲解解决方法对应的知识点，循序渐进，实践为本\n",
    "- 不需要从一开始就记住不理解的语法，而是Learn by doing/solving"
   ]
  },
  {
   "cell_type": "markdown",
   "metadata": {},
   "source": [
    "------\n",
    "### 第4章 使用元字符\n",
    "- **对特殊字符进行转义**，用反斜杠\"\\\"对元字符转义  \n",
    "**反斜杠本身也是元字符，匹配其本身时，也需要对其转义： `\"\\\\\"`。 在一个完整的正则表达式里，字符\"\\\"的后面永远跟着一个字符，否则正则表达式不完整，会报错。**\n",
    "- **匹配空白字符**  \n",
    "\n",
    "|字符|说明|\n",
    "|:----------:|:-------------|\n",
    "|\\r|回车符|\n",
    "|\\n|换行符|\n",
    "|\\t|制表符|\n",
    "|\\f|换页符|\n",
    "|\\v|垂直制表符|\n",
    "\n",
    "- **匹配特定的字符类别**， 比如：数字、字母、空白字符等\n",
    "\n",
    "|特殊字符 |\t描述 |\n",
    "|:----------:|:-------------|------:|\n",
    "|. | 匹配除 \"\\n\" 之外的任何单个字符。要匹配包括 '\\n' 在内的任何字符： '[.\\n]'\n",
    "|\\d  |匹配任何十进制数； [0-9]\n",
    "|\\D  |匹配任何非数字字符； [^0-9]\n",
    "|\\s  |匹配任何空白字符； [ \\t\\n\\r\\f\\v]\n",
    "|\\S  |匹配任何非空白字符； [^\\t\\n\\r\\f\\v]\n",
    "|\\w  |匹配任何字母数字字符； [a-zA-Z0-9_]\n",
    "|\\W  |匹配任何非字母数字字符； [^a-zA-Z0-9_]\n"
   ]
  },
  {
   "cell_type": "code",
   "execution_count": 36,
   "metadata": {
    "collapsed": true
   },
   "outputs": [],
   "source": [
    "# 第4章 使用元字符\n",
    "# 4.1 对特殊字符进行转义\n",
    "'''\n",
    "myArray[0]\n",
    "myArray\\[0\\]\n",
    "myArray\\[[0-9]\\]\n",
    "\\\\\n",
    "'''\n",
    "# 4.2 匹配空白字符\n",
    "'''\n",
    "# 注：\\r\\n是Windows文本行的结束标签，\\r\\n\\r\\n匹配两行之间的空白行\n",
    "\\r\\n\\r\\n\n",
    "# 注：\\n是Linux文本行的结束标签\n",
    "\\n\\n\n",
    "'''\n",
    "# 4.3 匹配特定的字符类别\n",
    "'''\n",
    "myArray\\[[\\d]\\]\n",
    "\\w\\d\\w\\d\\w\\d\n",
    "'''\n",
    "pattern =\"myArray[0]\""
   ]
  },
  {
   "cell_type": "markdown",
   "metadata": {},
   "source": [
    "### 第5章 重复匹配\n"
   ]
  },
  {
   "cell_type": "code",
   "execution_count": null,
   "metadata": {
    "collapsed": true
   },
   "outputs": [],
   "source": []
  }
 ],
 "metadata": {
  "kernelspec": {
   "display_name": "Python 2",
   "language": "python",
   "name": "python2"
  },
  "language_info": {
   "codemirror_mode": {
    "name": "ipython",
    "version": 2
   },
   "file_extension": ".py",
   "mimetype": "text/x-python",
   "name": "python",
   "nbconvert_exporter": "python",
   "pygments_lexer": "ipython2",
   "version": "2.7.12"
  }
 },
 "nbformat": 4,
 "nbformat_minor": 2
}
