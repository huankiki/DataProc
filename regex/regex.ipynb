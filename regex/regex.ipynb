{
 "cells": [
  {
   "cell_type": "markdown",
   "metadata": {},
   "source": [
    "# Regular Expression  (正则表达式)\n",
    "- [正则表达式必知必会（修订版）](https://book.douban.com/subject/26285406/)  \n",
    "- [Python Docs-Regular Expression HOWTO](https://docs.python.org/2.7/howto/regex.html)\n"
   ]
  },
  {
   "cell_type": "markdown",
   "metadata": {},
   "source": [
    "### 第一章 正则表达式入门\n",
    "正则表达式(regular expression, 简称regex)是一些用来匹配和处理文本的字符串，有特定的语法和指令。  \n",
    "正则表达式的用途：搜索 & 替换。\n",
    "\n",
    "#### Tips\n",
    "正则表达式起源于20世纪50年代"
   ]
  },
  {
   "cell_type": "code",
   "execution_count": null,
   "metadata": {
    "collapsed": true
   },
   "outputs": [],
   "source": []
  }
 ],
 "metadata": {
  "kernelspec": {
   "display_name": "Python 2",
   "language": "python",
   "name": "python2"
  },
  "language_info": {
   "codemirror_mode": {
    "name": "ipython",
    "version": 2
   },
   "file_extension": ".py",
   "mimetype": "text/x-python",
   "name": "python",
   "nbconvert_exporter": "python",
   "pygments_lexer": "ipython2",
   "version": "2.7.12"
  }
 },
 "nbformat": 4,
 "nbformat_minor": 2
}
