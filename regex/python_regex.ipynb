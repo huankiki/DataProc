{
 "cells": [
  {
   "cell_type": "markdown",
   "metadata": {},
   "source": [
    "# Regular Expression  (正则表达式)\n",
    "\n",
    "- [Python Docs-Regular Expression HOWTO](https://docs.python.org/2.7/howto/regex.html)\n",
    "- [Python正则表达式操作指南(该链接已经失效)](http://wiki.ubuntu.org.cn/Python%E6%AD%A3%E5%88%99%E8%A1%A8%E8%BE%BE%E5%BC%8F%E6%93%8D%E4%BD%9C%E6%8C%87%E5%8D%97)\n",
    "- [Python正则表达式操作指南](http://www.cdadata.com/4231)\n",
    "- 正则表达式（或 RE）是一种小型的、高度专业化的编程语言，它内嵌在Python中，并通过 re 模块实现。\n",
    "    - 有关正则表达式底层的计算机科学上的详细解释（**确定性和非确定性有限自动机**），你可以查阅编写编译器相关的任何教科书。\n",
    "- 以下是一个元字符的完整列表\n",
    "    - [], 用来指定字符类别，字符类别是你想匹配的一个字符集。```[akm$]```，注：在字符类别里，$的特性消失，恢复成普通字符\n",
    "    -  `*`，前一个字符可以被匹配零次或更多次，而不是只有一次，因此`*`是“贪婪的”。\n",
    "    - +，表示匹配一或更多次\n",
    "    -  ?， 匹配一次或零次\n",
    "    - `{m,n}`，注意m,n之间不能有空格。默认下边界为0，上边界为无穷大。\n",
    "    - `*` 相当于 `{0,}`, `+ `相当于 `{1,}`, `?` 相当于 `{0,1}`\n",
    "    \n",
    "\n",
    "```\n",
    ". ^ $ * + ? { [ ] \\ | ( )\n",
    "\n",
    "```\n",
    "\n",
    "|特殊字符 |\t描述 |\n",
    "|:----------:|:-------------|------:|\n",
    "|. | 匹配除 \"\\n\" 之外的任何单个字符。要匹配包括 '\\n' 在内的任何字符： '[.\\n]'\n",
    "|\\d  |匹配任何十进制数； [0-9]\n",
    "|\\D  |匹配任何非数字字符； [^0-9]\n",
    "|\\s  |匹配任何空白字符； [ \\t\\n\\r\\f\\v]\n",
    "|\\S  |匹配任何非空白字符； [^ \\t\\n\\r\\f\\v]\n",
    "|\\w  |匹配任何字母数字字符； [a-zA-Z0-9_]\n",
    "|\\W  |匹配任何非字母数字字符； [^a-zA-Z0-9_]"
   ]
  },
  {
   "cell_type": "markdown",
   "metadata": {},
   "source": [
    "## Python正则表达式操作指南"
   ]
  },
  {
   "cell_type": "markdown",
   "metadata": {
    "collapsed": true
   },
   "source": [
    "- [Python 正则表达式-菜鸟教程](http://www.runoob.com/python/python-reg-expressions.html)\n",
    "- 正则表达式被编译成RegexObject实例，可以为不同的操作提供方法\n",
    "- 使用Python的raw字符串表示，解决反斜杠的麻烦。在字符串前加r，反斜杠就不会被任何特殊方式处理。\n",
    "- RegexObject实例有一些方法**[Python的面向对象的特点]**和属性\n",
    "\n",
    "|RegexObject方法 |\t作用 |\n",
    "|:----------:|:-------------|------:|\n",
    "|match()| \t决定 RE 是否在字符串刚开始的位置匹配\n",
    "|search() | 扫描字符串，找到这个 RE 匹配的位置\n",
    "|findall()  | 找到 RE 匹配的所有子串，并把它们作为一个列表返回\n",
    "|finditer()  | 找到 RE 匹配的所有子串，并把它们作为一个迭代器返回\n",
    "\n",
    "- match() & search()\n",
    "    - 匹配失败，返回None。\n",
    "    - 匹配成功，返回一个MatchObject实例，包括匹配的开始/结束位置以及匹配的子串等信息\n",
    "    - 在实际程序中，最常见的作法是将 `MatchObject` 保存在一个变量里，然后检查它是否为 None\n",
    "- MatchObject实例的几个方法和属性\n",
    "\n",
    "|方法 |\t作用 |\n",
    "|:----------:|:-------------|------:|\n",
    "|group()| \t返回被RE匹配的字符串\n",
    "|start() | 返回匹配开始的位置\n",
    "|end()  | 返回匹配结束的位置\n",
    "|span()  | 返回一个元组包含匹配开始和结束的位置"
   ]
  },
  {
   "cell_type": "markdown",
   "metadata": {
    "collapsed": true
   },
   "source": [
    "- 编译标志\n",
    "\n",
    "|标志 | 单词 | 含义 |\n",
    "|:---:|:------:|:------|\n",
    "|I| IGNORECASE | 使匹配对大小写不敏感，[A-Z]也可以匹配小写字母\n",
    "|L | LOCALE | 影响\\w,\\W,\\b和\\B等本地化识别匹配，这取决于当前的本地化设置\n",
    "|M  | MULTILINE | 多行匹配，影响^和$\n",
    "|S | DOTALL | 使 . 匹配包括换行在内的所有字符\n",
    "|X | VERBOSE | 暂时不懂"
   ]
  },
  {
   "cell_type": "markdown",
   "metadata": {},
   "source": [
    "### re.match\n",
    "- 从字符串的起始位置匹配一个模式，如果不是起始位置匹配成功的话，返回None\n",
    "- re.match(pattern, string, flags=0)\n",
    "- 可以使用group(num)或groups\n",
    "- group()    匹配的整个表达式的字符串\n",
    "\n",
    "|方法 |\t作用 |\n",
    "|:----------:|:-------------|------:|\n",
    "|group() |\t返回被 RE 匹配的字符串 |\n",
    "|start() |\t返回匹配开始的位置 |\n",
    "|end()\t| 返回匹配结束的位置 |\n",
    "|span()\t| 返回一个元组包含匹配 (开始,结束) 的位置 |"
   ]
  },
  {
   "cell_type": "code",
   "execution_count": 15,
   "metadata": {
    "collapsed": false
   },
   "outputs": [
    {
     "name": "stdout",
     "output_type": "stream",
     "text": [
      "www\n",
      "0 3\n",
      "(0, 3)\n",
      "None\n"
     ]
    }
   ],
   "source": [
    "import re\n",
    "m = re.match('www', 'www.runoob.com')\n",
    "print(m.group())\n",
    "print m.start(), m.end()\n",
    "print(m.span())\n",
    "\n",
    "print(re.match('com', 'www.runoob.com'))  "
   ]
  },
  {
   "cell_type": "markdown",
   "metadata": {},
   "source": [
    "### re.search\n",
    "- 扫描整个字符串，并返回第一个成功匹配的对象，否则返回None"
   ]
  },
  {
   "cell_type": "code",
   "execution_count": 16,
   "metadata": {
    "collapsed": false
   },
   "outputs": [
    {
     "name": "stdout",
     "output_type": "stream",
     "text": [
      "www\n",
      "0 3\n",
      "(0, 3)\n",
      "<_sre.SRE_Match object at 0x7f3b0041c578>\n",
      "com\n"
     ]
    }
   ],
   "source": [
    "m = re.search('www', 'www.runoob.com')\n",
    "print(m.group())\n",
    "print m.start(), m.end()\n",
    "print(m.span())\n",
    "\n",
    "print(re.search('com', 'www.runoob.com')) \n",
    "print(re.search('com', 'www.runoob.com').group()) "
   ]
  },
  {
   "cell_type": "markdown",
   "metadata": {},
   "source": [
    "### re.sub\n",
    "\n",
    "```\n",
    "re.sub(pattern, repl, string, count=0, flags=0)\n",
    "```\n",
    "- 用于替换字符串中的匹配项\n",
    "- repl : 替换的字符串，也可为一个函数\n",
    "`"
   ]
  },
  {
   "cell_type": "code",
   "execution_count": 17,
   "metadata": {
    "collapsed": false
   },
   "outputs": [
    {
     "name": "stdout",
     "output_type": "stream",
     "text": [
      "电话号码是:  2004-959-559 \n",
      "电话号码是 :  2004959559\n"
     ]
    }
   ],
   "source": [
    "phone = \"2004-959-559 # 这是一个国外电话号码\"\n",
    " \n",
    "# 删除字符串中的 Python注释 \n",
    "num = re.sub(r'#.*$', \"\", phone)\n",
    "print \"电话号码是: \", num\n",
    " \n",
    "# 删除非数字(-)的字符串 \n",
    "num = re.sub(r\"\\D\", \"\", phone)\n",
    "print \"电话号码是 : \", num"
   ]
  },
  {
   "cell_type": "markdown",
   "metadata": {},
   "source": [
    "### re.compile\n",
    "\n",
    "```\n",
    "re.compile(pattern[, flags])\n",
    "```\n",
    "- 编译正则表达式，生成一个正则表达式Pattern对象，供match()和search()两个函数使用\n"
   ]
  },
  {
   "cell_type": "code",
   "execution_count": 18,
   "metadata": {
    "collapsed": false
   },
   "outputs": [
    {
     "name": "stdout",
     "output_type": "stream",
     "text": [
      "Hello World\n",
      "(0, 11)\n",
      "('Hello', 'World')\n",
      "m.group(1): Hello\n",
      "m.group(2): World\n"
     ]
    }
   ],
   "source": [
    "pattern = re.compile(r'([a-z]+) ([a-z]+)', re.I)    # re.I 表示忽略大小写\n",
    "m = pattern.match('Hello World Wide Web')\n",
    "print m.group(0)  # 返回匹配成功的整个子串\n",
    "print m.span(0)   # 返回匹配成功的整个子串的索引\n",
    "print m.groups()  # 等价于 (m.group(1), m.group(2), ...), 第一个和第二个分组匹配成功的子串\n",
    "print \"m.group(1):\", m.group(1)\n",
    "print \"m.group(2):\", m.group(2)"
   ]
  },
  {
   "cell_type": "markdown",
   "metadata": {},
   "source": [
    "### findall\n",
    "\n",
    "```\n",
    "pattern.findall(string[, pos[, endpos]])\n",
    "re.findall(pattern, string ,flag=0)\n",
    "\n",
    "```\n",
    "- 找到匹配的所有子串，并返回一个列表。如果没有找到匹配的，则返回空列表\n",
    "- 与match/search的区别是：match/search只匹配一次，findall匹配所有的\n",
    "\n",
    "### finditer\n",
    "\n",
    "- 与findall类似，但返回的是一个迭代器\n"
   ]
  },
  {
   "cell_type": "code",
   "execution_count": 19,
   "metadata": {
    "collapsed": false
   },
   "outputs": [
    {
     "name": "stdout",
     "output_type": "stream",
     "text": [
      "['123', '456', '666']\n",
      "[]\n"
     ]
    }
   ],
   "source": [
    "pattern = re.compile(r'\\d+')  # 查找数字\n",
    "rst1 = pattern.findall('abc 123 456 mnt 666')\n",
    "print rst1\n",
    "rst1 = pattern.findall('abc 我')\n",
    "print rst1"
   ]
  },
  {
   "cell_type": "code",
   "execution_count": 20,
   "metadata": {
    "collapsed": false
   },
   "outputs": [
    {
     "name": "stdout",
     "output_type": "stream",
     "text": [
      "123\n",
      "456\n",
      "666\n"
     ]
    }
   ],
   "source": [
    "m = re.finditer(r'\\d+', 'abc 123 456 mnt 666')\n",
    "for item in m:\n",
    "    print(item.group())\n",
    "    "
   ]
  },
  {
   "cell_type": "code",
   "execution_count": 21,
   "metadata": {
    "collapsed": false
   },
   "outputs": [
    {
     "name": "stdout",
     "output_type": "stream",
     "text": [
      "['runoob', 'runoob', 'runoob', '']\n",
      "['runoob_runoob_runoob']\n"
     ]
    }
   ],
   "source": [
    "print(re.split('\\W+', 'runoob, runoob, runoob.'))  # 非字母数字字符，作为分隔符\n",
    "# 找不到匹配的字符串，则不会对字符串分割。其中下划线也属于[字母数字字符]\n",
    "print(re.split('\\W+', 'runoob_runoob_runoob'))  "
   ]
  },
  {
   "cell_type": "code",
   "execution_count": 22,
   "metadata": {
    "collapsed": false
   },
   "outputs": [
    {
     "name": "stdout",
     "output_type": "stream",
     "text": [
      "matchObj.group() :  Cats are smarter than dogs\n",
      "matchObj.group(1) :  Cats\n",
      "matchObj.group(2) :  smarter\n"
     ]
    }
   ],
   "source": [
    "# example & notes\n",
    "import re\n",
    "line = \"Cats are smarter than dogs\"\n",
    "# 正则表达式中的空格和模式很重要，Details count\n",
    "matchObj = re.match( r'(.*) are (.*?) .*', line, re.M|re.I)\n",
    "if matchObj:\n",
    "    print \"matchObj.group() : \", matchObj.group()\n",
    "    print \"matchObj.group(1) : \", matchObj.group(1)\n",
    "    print \"matchObj.group(2) : \", matchObj.group(2)\n",
    "else:\n",
    "    print \"No match!!\""
   ]
  },
  {
   "cell_type": "markdown",
   "metadata": {},
   "source": [
    "```r'(.*) are (.*?) .*'```\n",
    "- 前面的一个 r 表示字符串为非转义的原始字符串，让编译器忽略反斜杠\n",
    "- `(.*)` 第一个匹配分组，`.*` 代表匹配除换行符之外的所有字符\n",
    "- `(.*?)` 第二个匹配分组，`.*?` 后面多个问号，代表非贪婪模式，也就是说只匹配符合条件的最少字符\n",
    "- 后面的一个 `.*` 没有括号包围，所以不是分组，匹配效果和第一个一样，但是不计入匹配结果中。"
   ]
  },
  {
   "cell_type": "markdown",
   "metadata": {},
   "source": [
    "### 分组\n",
    "- 组是通过 \"(\" 和 \")\" 元字符来标识的。 \"(\" 和 \")\" 有很多在数学表达式中相同的意思；它们一起把在它们里面的表达式组成一组。\n",
    "- 组可以被嵌套。小组是从左向右计数的，从1开始，按照括号数来确定。\n",
    "- 扩展语法。用来解决的问题是：追踪组号比较困难\n",
    "    - `(?P<name>...)` 定义一个命名组，`(?P=name)` 则是对命名组的逆向引用。\n",
    "    - 无捕获组 `(?:...)`,对组的内容不感兴趣\n"
   ]
  },
  {
   "cell_type": "code",
   "execution_count": 23,
   "metadata": {
    "collapsed": false
   },
   "outputs": [
    {
     "name": "stdout",
     "output_type": "stream",
     "text": [
      "ababab\n"
     ]
    }
   ],
   "source": [
    "p = re.compile('(ab)*')\n",
    "print p.match('abababc').group(0)"
   ]
  },
  {
   "cell_type": "code",
   "execution_count": 24,
   "metadata": {
    "collapsed": false
   },
   "outputs": [
    {
     "name": "stdout",
     "output_type": "stream",
     "text": [
      "abcd\n",
      "abc\n",
      "b\n"
     ]
    }
   ],
   "source": [
    "p = re.compile('(a(b)c)d')\n",
    "m = p.match('abcd')\n",
    "print m.group(0)\n",
    "print m.group(1)\n",
    "print m.group(2)"
   ]
  },
  {
   "cell_type": "code",
   "execution_count": 25,
   "metadata": {
    "collapsed": false
   },
   "outputs": [
    {
     "name": "stdout",
     "output_type": "stream",
     "text": [
      "the the\n"
     ]
    }
   ],
   "source": [
    "# 逆向引用，允许指定先前捕获组的内容\n",
    "p = re.compile(r'(\\b\\w+)\\s+\\1')\n",
    "print p.search('Paris in the the spring').group()"
   ]
  },
  {
   "cell_type": "code",
   "execution_count": 26,
   "metadata": {
    "collapsed": false
   },
   "outputs": [
    {
     "name": "stdout",
     "output_type": "stream",
     "text": [
      "abc\n",
      "('abc',)\n",
      "abc\n",
      "('c',)\n",
      "abc\n",
      "()\n"
     ]
    }
   ],
   "source": [
    "# 无捕获组\n",
    "m = re.match(r\"([abc]+)\", \"abc\")  # +号在命名组内\n",
    "print m.group()\n",
    "print m.groups()\n",
    "\n",
    "m = re.match(r\"([abc])+\", \"abc\")  # +号在命名组外\n",
    "print m.group()\n",
    "print m.groups()\n",
    "\n",
    "m = re.match(\"(?:[abc])+\", \"abc\")\n",
    "print m.group()\n",
    "print m.groups()"
   ]
  },
  {
   "cell_type": "code",
   "execution_count": 27,
   "metadata": {
    "collapsed": false
   },
   "outputs": [
    {
     "name": "stdout",
     "output_type": "stream",
     "text": [
      "Lots\n",
      "Lots\n",
      "['Lots', 'of', 'punctuation']\n",
      "the the\n"
     ]
    }
   ],
   "source": [
    "p = re.compile(r'(?P<word>\\b\\w+\\b)')\n",
    "m = p.search( '(((( Lots of punctuation )))' )\n",
    "print m.group(0)\n",
    "print m.group('word')\n",
    "\n",
    "m = p.findall( '(((( Lots of punctuation )))' )\n",
    "print m\n",
    "\n",
    "p = re.compile(r'(?P<word>\\b\\w+)\\s+(?P=word)')\n",
    "print p.search('Paris in the the spring').group()"
   ]
  },
  {
   "cell_type": "code",
   "execution_count": 28,
   "metadata": {
    "collapsed": true
   },
   "outputs": [],
   "source": [
    "#前向界定符"
   ]
  }
 ],
 "metadata": {
  "kernelspec": {
   "display_name": "Python 2",
   "language": "python",
   "name": "python2"
  },
  "language_info": {
   "codemirror_mode": {
    "name": "ipython",
    "version": 2
   },
   "file_extension": ".py",
   "mimetype": "text/x-python",
   "name": "python",
   "nbconvert_exporter": "python",
   "pygments_lexer": "ipython2",
   "version": "2.7.12"
  }
 },
 "nbformat": 4,
 "nbformat_minor": 2
}
