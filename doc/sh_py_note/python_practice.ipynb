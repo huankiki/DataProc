{
 "cells": [
  {
   "cell_type": "markdown",
   "metadata": {},
   "source": [
    "#### 求两个文本文件，以行为单位的交集、并集、差集\n"
   ]
  },
  {
   "cell_type": "code",
   "execution_count": 1,
   "metadata": {
    "scrolled": true
   },
   "outputs": [
    {
     "name": "stdout",
     "output_type": "stream",
     "text": [
      "s1:  set(['w\\n', 'abc\\n', 'hijk\\n', 'lmn\\n', 'uv\\n', 'efg\\n', 'bcd\\n', 'opq\\n', 'rst\\n'])\n",
      "s2:  set(['bc\\n', 'pq\\n', 'uv\\n', 'hijk\\n', 'mn\\n', 'xw\\n', 'fg\\n', 'bcd\\n', 'rst\\n'])\n",
      "交集\n",
      "set(['uv\\n', 'bcd\\n', 'rst\\n', 'hijk\\n'])\n",
      "并集\n",
      "set(['mn\\n', 'bc\\n', 'pq\\n', 'w\\n', 'abc\\n', 'hijk\\n', 'lmn\\n', 'uv\\n', 'xw\\n', 'fg\\n', 'efg\\n', 'bcd\\n', 'opq\\n', 'rst\\n'])\n",
      "差集\n",
      "set(['bc\\n', 'pq\\n', 'w\\n', 'abc\\n', 'lmn\\n', 'mn\\n', 'xw\\n', 'fg\\n', 'efg\\n', 'opq\\n'])\n"
     ]
    }
   ],
   "source": [
    "f1 = open('a.txt', 'r')\n",
    "f2 = open('b.txt', 'r')\n",
    "\n",
    "s1 = set(f1.readlines())\n",
    "s2 = set(f2.readlines())\n",
    "print 's1: ', s1\n",
    "print 's2: ', s2\n",
    "\n",
    "print '交集'\n",
    "print s1.intersection(s2)\n",
    "\n",
    "print '并集'\n",
    "print s1.union(s2)\n",
    "\n",
    "print '差集'\n",
    "print s1.difference(s2).union(s2.difference(s1))\n"
   ]
  },
  {
   "cell_type": "markdown",
   "metadata": {
    "collapsed": true
   },
   "source": [
    "#### 如何传入不确定数量的入参\n",
    "##### Python中函数传递参数有四种形式\n",
    "https://blog.csdn.net/lushijie5516/article/details/12749499"
   ]
  },
  {
   "cell_type": "markdown",
   "metadata": {},
   "source": [
    "\n",
    "- fun1(a,b,c)\n",
    "  - 直接将实参赋予行参，根据位置做匹配，即严格要求实参的数量与行参的数量位置相等\n",
    "\n",
    "- fun2(a=1,b=2,c=3)\n",
    "  - 根据键值对的形式做实参与行参的匹配，可以忽略参数的位置关系，直接根据关键字来进行赋值\n",
    "  - 同时该种传参方式还有个好处就是可以在调用函数的时候作为个别选填项，不要求数量上的相等, 比如：fun2(3,4)\n",
    "  - 也可以打乱形参的位置，fun2(c=5,a=2,b=7)\n",
    "  - 可以在没有对应行参传递的时候使用定义函数时的默认值\n",
    "\n",
    "- fun3(*args)\n",
    "  - 可以传入任意个参数，这些若干参数都被放到了tuple元组中赋值给行参args\n",
    "  - 之后要在函数中使用这些行参，直接操作args这个tuple元组就可以了\n",
    "  - 在参数的数量上没有限制，但因为是tuple，其本身还是有次序的\n",
    "  \n",
    "- fun4(**kargs)\n",
    "  - 以键值对字典的形式向函数传参，没有数量上和位置上的限制\n",
    "  \n"
   ]
  },
  {
   "cell_type": "code",
   "execution_count": 7,
   "metadata": {},
   "outputs": [
    {
     "name": "stdout",
     "output_type": "stream",
     "text": [
      "(1, 2, 3)\n",
      "1\n",
      "2\n",
      "3\n",
      "(1, 2, 3)\n",
      "1\n",
      "2\n",
      "3\n"
     ]
    }
   ],
   "source": [
    "# 传入的参数为以元组形式存在args中\n",
    "def func(*args):\n",
    "    print args\n",
    "    for i in args:\n",
    "        print i\n",
    "    \n",
    "func(1,2,3)\n",
    "\n",
    "# 这个方式可以直接将一个列表的所有元素当作不定参数\n",
    "func(*[1,2,3])\n"
   ]
  },
  {
   "cell_type": "code",
   "execution_count": 8,
   "metadata": {},
   "outputs": [
    {
     "name": "stdout",
     "output_type": "stream",
     "text": [
      "{'a': 1, 'c': 3, 'b': 2}\n",
      "a 1\n",
      "c 3\n",
      "b 2\n"
     ]
    }
   ],
   "source": [
    "# 传入的参数为以字典形式存在args中\n",
    "def func(**kwargs):\n",
    "    print kwargs\n",
    "    for key, val in kwargs.items():\n",
    "        print key, val\n",
    "        \n",
    "func(a=1,b=2,c=3)\n"
   ]
  },
  {
   "cell_type": "code",
   "execution_count": null,
   "metadata": {
    "collapsed": true
   },
   "outputs": [],
   "source": []
  }
 ],
 "metadata": {
  "kernelspec": {
   "display_name": "Python 2",
   "language": "python",
   "name": "python2"
  },
  "language_info": {
   "codemirror_mode": {
    "name": "ipython",
    "version": 2
   },
   "file_extension": ".py",
   "mimetype": "text/x-python",
   "name": "python",
   "nbconvert_exporter": "python",
   "pygments_lexer": "ipython2",
   "version": "2.7.13"
  }
 },
 "nbformat": 4,
 "nbformat_minor": 2
}
